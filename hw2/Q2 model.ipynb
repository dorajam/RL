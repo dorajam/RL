{
 "cells": [
  {
   "cell_type": "code",
   "execution_count": 517,
   "metadata": {},
   "outputs": [],
   "source": [
    "import json\n",
    "import numpy as np\n",
    "import torch\n"
   ]
  },
  {
   "cell_type": "markdown",
   "metadata": {},
   "source": [
    "# Split episodes"
   ]
  },
  {
   "cell_type": "code",
   "execution_count": 503,
   "metadata": {},
   "outputs": [],
   "source": [
    "dataset = 'dataset_eps0.0.jsonl'\n",
    "\n",
    "data = []\n",
    "\n",
    "with open(dataset, 'r') as f:\n",
    "    for d in f.readlines():\n",
    "        data.append(json.loads(d))\n",
    "\n",
    "X, y = zip(*\n",
    "    [(r['observation'], r['next_observation']) for episode in data for r in episode\n",
    "    if r['next_observation'] != None]\n",
    ")\n",
    "X = torch.tensor(X)\n",
    "y = torch.tensor(y)"
   ]
  },
  {
   "cell_type": "code",
   "execution_count": null,
   "metadata": {},
   "outputs": [],
   "source": []
  },
  {
   "cell_type": "code",
   "execution_count": 504,
   "metadata": {},
   "outputs": [
    {
     "name": "stdout",
     "output_type": "stream",
     "text": [
      "torch.Size([158408, 6])\n",
      "torch.Size([158408, 6])\n"
     ]
    }
   ],
   "source": [
    "print(X.shape)\n",
    "print(y.shape)"
   ]
  },
  {
   "cell_type": "code",
   "execution_count": 505,
   "metadata": {},
   "outputs": [],
   "source": [
    "# means = torch.mean(X, axis=0)\n",
    "# stdevs = torch.std(X, axis=0)\n",
    "# print(means, stdevs)"
   ]
  },
  {
   "cell_type": "code",
   "execution_count": 127,
   "metadata": {},
   "outputs": [],
   "source": [
    "# X = (X - means)/ stdevs\n",
    "# y = (y - means)/ stdevs"
   ]
  },
  {
   "cell_type": "code",
   "execution_count": 506,
   "metadata": {},
   "outputs": [],
   "source": [
    "def fit_model(X, y):\n",
    "    rbf_kernel = ConstantKernel(1.0) * RBF(length_scale=1.0)\n",
    "    gp = GaussianProcessRegressor(kernel=rbf_kernel, random_state=0, n_restarts_optimizer=10)\n",
    "\n",
    "    gpr = gp.fit(X, y)\n",
    "#     predictions = gpr.predict(X[:2,:], return_std=True)\n",
    "#   r_square = gpr.score(X, y)\n",
    "\n",
    "    return gpr\n",
    "\n",
    "def normalize(X, y):\n",
    "    means = torch.mean(X, axis=0)\n",
    "    stdevs = torch.std(X, axis=0)\n",
    "    X = (X - means)/ stdevs\n",
    "    y = (y - means)/ stdevs\n",
    "    return X, y\n",
    "\n",
    "def split_data(X, y, ratio=(0.6, 0.3)):\n",
    "    \"\"\"\n",
    "    Splits an episode.\n",
    "    \"\"\"\n",
    "    \n",
    "    assert sum(ratio) < 1., 'Ratio arg invalid. You need to define a split to allow for test samples.'\n",
    "    \n",
    "    num_samples = X.shape[0]\n",
    "    indices = torch.randperm(X.shape[0])\n",
    "    tr_idx = int(num_samples*ratio[0])\n",
    "    dev_idx = int(num_samples*ratio[1])\n",
    "    print(f'Training id and dev id: {tr_idx}, {dev_idx}')\n",
    "    \n",
    "    training_X = X[indices[:tr_idx]]\n",
    "    training_y = y[indices[:tr_idx]]\n",
    "    dev_X = X[indices[tr_idx:tr_idx+dev_idx]]\n",
    "    dev_y = y[indices[tr_idx:tr_idx+dev_idx]]\n",
    "    test_X = X[indices[tr_idx+dev_idx:]]\n",
    "    test_y = y[indices[tr_idx+dev_idx:]]\n",
    "    \n",
    "    print(f'Created {len(training_X)} training, {len(dev_X)}, dev and {len(test_X)} test samples')\n",
    "    \n",
    "    return (\n",
    "        (training_X, training_y),\n",
    "        (dev_X, dev_y),\n",
    "        (test_X, test_y)\n",
    "    )\n",
    "    \n",
    "    \n",
    "def split_by_episodes(data, ratio=(0.6, 0.3)):\n",
    "    \"\"\"\n",
    "    Splits by episodes\n",
    "    \"\"\"\n",
    "    \n",
    "    assert sum(ratio) < 1., 'Ratio arg invalid. You need to define a split to allow for test samples.'\n",
    "    \n",
    "    num_samples = len(data)\n",
    "    indices = torch.randperm(num_samples)\n",
    "    \n",
    "    tr_idx = int(num_samples*ratio[0])\n",
    "    dev_idx = int(num_samples*ratio[1])\n",
    "    print(f'Training id and dev id: {tr_idx}, {dev_idx}')\n",
    "    \n",
    "    training = data[indices[:tr_idx]]\n",
    "    dev = data[indices[tr_idx:tr_idx+dev_idx]]\n",
    "    test = data[indices[tr_idx+dev_idx:]]\n",
    "    \n",
    "    print(f'Created {len(training)} training, {len(dev)} dev and {len(test)} test samples')\n",
    "    \n",
    "    return ( \n",
    "        training, dev, test\n",
    "    )\n"
   ]
  },
  {
   "cell_type": "code",
   "execution_count": 507,
   "metadata": {},
   "outputs": [
    {
     "name": "stdout",
     "output_type": "stream",
     "text": [
      "Training id and dev id: 95044, 47522\n",
      "Created 95044 training, 47522, dev and 15842 test samples\n"
     ]
    }
   ],
   "source": [
    "X, y = normalize(X, y)\n",
    "tr, dev, test = split_data(X, y, ratio=(0.6, 0.3))"
   ]
  },
  {
   "cell_type": "code",
   "execution_count": 70,
   "metadata": {},
   "outputs": [
    {
     "data": {
      "text/plain": [
       "0.01"
      ]
     },
     "execution_count": 70,
     "metadata": {},
     "output_type": "execute_result"
    }
   ],
   "source": [
    "# # gpr = fit_model(*tr)\n",
    "\n",
    "# # # Compute posterior mean and covariance\n",
    "# # predicted_mus, predicted_cov = gpr.predict(test[0], return_cov=True)\n",
    "\n",
    "\n",
    "# # # Obtain optimized kernel parameters\n",
    "# # l = gpr.kernel_.k2.get_params()['length_scale']\n",
    "# # sigma_f = np.sqrt(gpr.kernel_.k1.get_params()['constant_value'])\n",
    "\n",
    "# # # # Compare with previous results\n",
    "# # # assert(np.isclose(l_opt, l))\n",
    "# # # assert(np.isclose(sigma_f_opt, sigma_f))\n",
    "\n",
    "# mse = ((predicted_mus - test[1])**2).mean()\n",
    "# mse\n",
    "# predicted_mus.shape\n",
    "# gpr.log_marginal_likelihood()\n",
    "\n",
    "# import numpy as np\n",
    "# import matplotlib.pyplot as plt\n",
    "\n",
    "# from matplotlib import animation, cm\n",
    "# from mpl_toolkits.mplot3d import Axes3D\n",
    "\n",
    "\n",
    "# def plot_gp(mu, cov, X, X_train=None, Y_train=None, samples=[]):\n",
    "#     X = X.ravel()\n",
    "#     mu = mu.ravel()\n",
    "#     uncertainty = 1.96 * np.sqrt(np.diag(cov))\n",
    "#     print(mu.shape)\n",
    "    \n",
    "#     plt.fill_between(X, mu + uncertainty, mu - uncertainty, alpha=0.1)\n",
    "#     plt.plot(X, mu, label='Mean')\n",
    "#     for i, sample in enumerate(samples):\n",
    "#         plt.plot(X, sample, lw=1, ls='--', label=f'Sample {i+1}')\n",
    "#     if X_train is not None:\n",
    "#         plt.plot(X_train, Y_train, 'rx')\n",
    "#     plt.legend()\n",
    "    \n",
    "# # Plot the results\n",
    "# plot_gp(predicted_mus, predicted_cov, X=np.ones(test[0].shape), X_train=test[0], Y_train=test[1])"
   ]
  },
  {
   "cell_type": "code",
   "execution_count": 508,
   "metadata": {},
   "outputs": [],
   "source": [
    "import torch\n",
    "import torch.nn as nn\n",
    "import torch.nn.functional as F\n",
    "\n",
    "\n",
    "class Model(nn.Module):\n",
    "    def __init__(\n",
    "            self,\n",
    "            state_dim=6,\n",
    "            device='cuda'\n",
    "    ):\n",
    "        super(Model, self).__init__()\n",
    "        self.model = nn.Linear(state_dim, state_dim)\n",
    "        self.device= device\n",
    "\n",
    "    def forward(self, state):\n",
    "        next_state = self.model(state)\n",
    "        return next_state\n",
    "    \n",
    "    def save(self, optimizer, filename):\n",
    "        torch.save(self.model.state_dict(), filename)\n",
    "        torch.save(optimizer.state_dict(), filename)\n",
    "\n",
    "    def load(self, optimizer, filename):\n",
    "        self.model.load_state_dict(torch.load(filename))\n",
    "        optimizer.load_state_dict(torch.load(filename))\n",
    "\n",
    "    \n",
    "    \n",
    "class Trainer():\n",
    "    def __init__(self, state_dim=6, eta=1e-3, epochs=10, batch_size=128):\n",
    "        self.eta = eta\n",
    "        self.epochs = epochs\n",
    "        self.batch_size=batch_size\n",
    "        self.model = Model(state_dim=state_dim)\n",
    "        self.optimizer = torch.optim.Adam(self.model.parameters(), lr=self.eta)\n",
    "\n",
    "    def prepare_data(self, episode_data):\n",
    "        X, y = zip(*\n",
    "            [(r['observation'], r['next_observation']) for r in episode_data if r['next_observation'] != None]\n",
    "        )\n",
    "        X = torch.tensor(X)\n",
    "        y = torch.tensor(y)        \n",
    "        X, y = normalize(X, y)\n",
    "        batches = []\n",
    "        num_batches = X.shape[0] // self.batch_size\n",
    "        for batch in range(num_batches):\n",
    "            \n",
    "            batch = (\n",
    "                X[batch*self.batch_size: (batch+1)*self.batch_size],\n",
    "                y[batch*self.batch_size: (batch+1)*self.batch_size]\n",
    "            )\n",
    "            batches.append(batch)\n",
    "        \n",
    "        return batches\n",
    "        \n",
    "    def eval_on_dev(self, dev):\n",
    "        self.model.eval()\n",
    "        dev_losses = 0\n",
    "        counter = 0\n",
    "        \n",
    "        for episode in range(len(dev)):\n",
    "            batches = self.prepare_data(dev[episode])\n",
    "            \n",
    "            for b in batches:\n",
    "                states, next_states = b[0], b[1]\n",
    "                pred_next_states = self.model(states)\n",
    "                curr_loss = F.mse_loss(pred_next_states, next_states)\n",
    "                dev_losses += curr_loss.item()\n",
    "                counter += states.shape[0]\n",
    "            \n",
    "        self.model.train()\n",
    "        return dev_losses / counter\n",
    "        \n",
    "        \n",
    "    def train(self, tr_data, dev_data, save_path='test_save_path'):\n",
    "        \n",
    "        epoch_losses = []\n",
    "        val_losses = []\n",
    "        \n",
    "        for e in range(self.epochs):    \n",
    "            epoch_loss = 0\n",
    "            counter = 0\n",
    "            \n",
    "            for episode in range(len(tr_data)):\n",
    "                curr_data = self.prepare_data(tr_data[episode])\n",
    "                \n",
    "                num_batches = len(curr_data)\n",
    "                for idx in range(num_batches):\n",
    "\n",
    "                    # actual trajectory\n",
    "                    states, next_states = curr_data[idx][0], curr_data[idx][1]\n",
    "                    \n",
    "                    pred_next_states = self.model(states)\n",
    "                    curr_loss = F.mse_loss(pred_next_states, next_states)\n",
    "                    \n",
    "                    self.optimizer.zero_grad()\n",
    "                    curr_loss.backward()\n",
    "                    self.optimizer.step()\n",
    "                    epoch_loss += curr_loss\n",
    "                    counter += states.shape[0]\n",
    "                    \n",
    "            epoch_losses.append(epoch_loss / counter)\n",
    "                          \n",
    "            # import ipdb;ipdb.set_trace()\n",
    "            \n",
    "            print(f'Epoch {e} training MSE: {epoch_losses[-1]}')\n",
    "            val_loss = self.eval_on_dev(dev)\n",
    "            print(f'Epoch {e} validation MSE: {val_loss}')\n",
    "            val_losses.append(val_loss)\n",
    "            \n",
    "#             # save model\n",
    "#             if save_path:\n",
    "#                 self.model.save(f\"{save_path}/model_at_epoch_{e}\", self.optimizer)\n",
    "\n",
    "        return epoch_losses, val_losses\n",
    "\n",
    "    def predict(self, episode_data, state_ids=[0, 1]):\n",
    "        \"\"\"\n",
    "        episode_data: tensor of timestamps x 6 states\n",
    "        \"\"\"\n",
    "        results = []\n",
    "        curr_states = episode_data[0][0]\n",
    "        \n",
    "        for true_state, true_next_state in episode_data:\n",
    "            \n",
    "            next_states = self.model(curr_states)\n",
    "            predictions = next_states[state_ids]\n",
    "            \n",
    "            results.append([predictions, true_state])\n",
    "            curr_states = next_states\n",
    "        \n",
    "        return res\n",
    "        "
   ]
  },
  {
   "cell_type": "code",
   "execution_count": 509,
   "metadata": {},
   "outputs": [],
   "source": [
    "dataset = 'dataset_eps0.1.jsonl'\n",
    "\n",
    "data = []\n",
    "\n",
    "with open(dataset, 'r') as f:\n",
    "    for d in f.readlines():\n",
    "        data.append(json.loads(d))\n",
    "data = np.array(data)"
   ]
  },
  {
   "cell_type": "code",
   "execution_count": 510,
   "metadata": {},
   "outputs": [
    {
     "name": "stdout",
     "output_type": "stream",
     "text": [
      "Training id and dev id: 350, 100\n",
      "Created 350 training, 100 dev and 50 test samples\n"
     ]
    }
   ],
   "source": [
    "tr, dev, test = split_by_episodes(data, ratio=(0.7, 0.2))"
   ]
  },
  {
   "cell_type": "code",
   "execution_count": 511,
   "metadata": {},
   "outputs": [
    {
     "name": "stdout",
     "output_type": "stream",
     "text": [
      "0.9575668291684436\n",
      "0.00968062\n"
     ]
    },
    {
     "name": "stderr",
     "output_type": "stream",
     "text": [
      "/Users/Dora/.pyenv/versions/3.7.3/envs/nlp/lib/python3.7/site-packages/sklearn/base.py:420: FutureWarning: The default value of multioutput (not exposed in score method) will change from 'variance_weighted' to 'uniform_average' in 0.23 to keep consistent with 'metrics.r2_score'. To specify the default value manually and avoid the warning, please either call 'metrics.r2_score' directly or make a custom scorer with 'metrics.make_scorer' (the built-in scorer 'r2' uses multioutput='uniform_average').\n",
      "  \"multioutput='uniform_average').\", FutureWarning)\n"
     ]
    },
    {
     "data": {
      "text/plain": [
       "0.018668752"
      ]
     },
     "execution_count": 511,
     "metadata": {},
     "output_type": "execute_result"
    }
   ],
   "source": [
    "from sklearn.linear_model import LinearRegression\n",
    "\n",
    "\n",
    "batches=trainer.prepare_data(tr[0])\n",
    "X, y = batches[0][0], batches[0][1] \n",
    "\n",
    "reg = LinearRegression().fit(X, y)\n",
    "print(reg.score(X, y))\n",
    "out = reg.predict(X)\n",
    "print(np.mean((out - y.numpy())**2))\n",
    "\n",
    "batches=trainer.prepare_data(test[0])\n",
    "X, y = batches[0][0], batches[0][1] \n",
    "out = reg.predict(X)\n",
    "np.mean((out - y.numpy())**2)"
   ]
  },
  {
   "cell_type": "code",
   "execution_count": 512,
   "metadata": {},
   "outputs": [
    {
     "data": {
      "image/png": "[encoded data removed]",
      "text/plain": [
       "<Figure size 432x288 with 1 Axes>"
      ]
     },
     "metadata": {
      "needs_background": "light"
     },
     "output_type": "display_data"
    }
   ],
   "source": [
    "predicted_x = []\n",
    "predicted_y = []\n",
    "true_x = []\n",
    "true_y = []\n",
    "curr = X[0].reshape(1,-1).numpy()\n",
    "\n",
    "for sample, next in zip(X, y):\n",
    "    pred = reg.predict(curr)\n",
    "    predicted_x.append(curr[:,1])\n",
    "    predicted_y.append(curr[:,2])\n",
    "    true_x.append(sample[1].numpy().item())\n",
    "    true_y.append(sample[2].numpy().item())\n",
    "    curr = pred.reshape(1,-1)\n",
    "\n",
    "start_point = true_x[0], true_y[0]\n",
    "\n",
    "# plt.scatter(predicted_x, predicted_y, alpha=0.5)\n",
    "plt.scatter(true_x, true_y, c=\"g\", alpha=0.5)\n",
    "plt.scatter(start_point[0], start_point[1], c='r')\n",
    "\n",
    "plt.show()\n",
    "\n"
   ]
  },
  {
   "cell_type": "code",
   "execution_count": null,
   "metadata": {},
   "outputs": [],
   "source": []
  },
  {
   "cell_type": "code",
   "execution_count": null,
   "metadata": {},
   "outputs": [],
   "source": []
  },
  {
   "cell_type": "code",
   "execution_count": 513,
   "metadata": {},
   "outputs": [
    {
     "name": "stdout",
     "output_type": "stream",
     "text": [
      "Epoch 0 training MSE: 0.0041687400080263615\n",
      "Epoch 0 validation MSE: 0.0023299682447138954\n",
      "Epoch 1 training MSE: 0.0019546833354979753\n",
      "Epoch 1 validation MSE: 0.001820419994957231\n",
      "Epoch 2 training MSE: 0.0017594764940440655\n",
      "Epoch 2 validation MSE: 0.0017788520187394467\n",
      "Epoch 3 training MSE: 0.0017432314343750477\n",
      "Epoch 3 validation MSE: 0.001776094813170059\n",
      "Epoch 4 training MSE: 0.001742023741826415\n",
      "Epoch 4 validation MSE: 0.0017759611797060742\n",
      "Epoch 5 training MSE: 0.0017419892828911543\n",
      "Epoch 5 validation MSE: 0.0017759889660943595\n",
      "Epoch 6 training MSE: 0.0017420370131731033\n",
      "Epoch 6 validation MSE: 0.0017760144061344672\n",
      "Epoch 7 training MSE: 0.001742073567584157\n",
      "Epoch 7 validation MSE: 0.0017760288043656676\n",
      "Epoch 8 training MSE: 0.0017420949880033731\n",
      "Epoch 8 validation MSE: 0.0017760360999453215\n",
      "Epoch 9 training MSE: 0.0017421073280274868\n",
      "Epoch 9 validation MSE: 0.001776039631780747\n"
     ]
    }
   ],
   "source": [
    "trainer = Trainer(batch_size=128, epochs=10)\n",
    "tr_losses, val_losses = trainer.train(tr, dev)"
   ]
  },
  {
   "cell_type": "code",
   "execution_count": 514,
   "metadata": {},
   "outputs": [
    {
     "data": {
      "image/png": "[encoded data removed]",
      "text/plain": [
       "<Figure size 432x288 with 1 Axes>"
      ]
     },
     "metadata": {
      "needs_background": "light"
     },
     "output_type": "display_data"
    }
   ],
   "source": [
    "import matplotlib.pyplot as plt\n",
    "timestamps = np.arange(0,10)\n",
    "plt.plot(timestamps, tr_losses, 'g', label='Training loss')\n",
    "plt.plot(timestamps, val_losses, 'b', label='validation loss')\n",
    "plt.xlabel('Training steps')\n",
    "plt.ylabel('Loss')\n",
    "plt.legend()\n",
    "plt.show()"
   ]
  },
  {
   "cell_type": "code",
   "execution_count": 515,
   "metadata": {},
   "outputs": [
    {
     "ename": "KeyError",
     "evalue": "0",
     "output_type": "error",
     "traceback": [
      "\u001b[0;31m---------------------------------------------------------------------------\u001b[0m",
      "\u001b[0;31mKeyError\u001b[0m                                  Traceback (most recent call last)",
      "\u001b[0;32m<ipython-input-515-a6c8531cdd80>\u001b[0m in \u001b[0;36m<module>\u001b[0;34m\u001b[0m\n\u001b[0;32m----> 1\u001b[0;31m \u001b[0mtrainer\u001b[0m\u001b[0;34m.\u001b[0m\u001b[0mpredict\u001b[0m\u001b[0;34m(\u001b[0m\u001b[0mepisode_data\u001b[0m\u001b[0;34m=\u001b[0m\u001b[0mtest\u001b[0m\u001b[0;34m[\u001b[0m\u001b[0;36m2\u001b[0m\u001b[0;34m]\u001b[0m\u001b[0;34m)\u001b[0m\u001b[0;34m\u001b[0m\u001b[0;34m\u001b[0m\u001b[0m\n\u001b[0m",
      "\u001b[0;32m<ipython-input-508-b13644f3ceea>\u001b[0m in \u001b[0;36mpredict\u001b[0;34m(self, episode_data, state_ids)\u001b[0m\n\u001b[1;32m    121\u001b[0m         \"\"\"\n\u001b[1;32m    122\u001b[0m         \u001b[0mresults\u001b[0m \u001b[0;34m=\u001b[0m \u001b[0;34m[\u001b[0m\u001b[0;34m]\u001b[0m\u001b[0;34m\u001b[0m\u001b[0;34m\u001b[0m\u001b[0m\n\u001b[0;32m--> 123\u001b[0;31m         \u001b[0mcurr_states\u001b[0m \u001b[0;34m=\u001b[0m \u001b[0mepisode_data\u001b[0m\u001b[0;34m[\u001b[0m\u001b[0;36m0\u001b[0m\u001b[0;34m]\u001b[0m\u001b[0;34m[\u001b[0m\u001b[0;36m0\u001b[0m\u001b[0;34m]\u001b[0m\u001b[0;34m\u001b[0m\u001b[0;34m\u001b[0m\u001b[0m\n\u001b[0m\u001b[1;32m    124\u001b[0m \u001b[0;34m\u001b[0m\u001b[0m\n\u001b[1;32m    125\u001b[0m         \u001b[0;32mfor\u001b[0m \u001b[0mtrue_state\u001b[0m\u001b[0;34m,\u001b[0m \u001b[0mtrue_next_state\u001b[0m \u001b[0;32min\u001b[0m \u001b[0mepisode_data\u001b[0m\u001b[0;34m:\u001b[0m\u001b[0;34m\u001b[0m\u001b[0;34m\u001b[0m\u001b[0m\n",
      "\u001b[0;31mKeyError\u001b[0m: 0"
     ]
    }
   ],
   "source": [
    "trainer.predict(episode_data=test[2])"
   ]
  },
  {
   "cell_type": "code",
   "execution_count": null,
   "metadata": {},
   "outputs": [],
   "source": [
    "# 50 episodes, each having various num of timestamps\n",
    "episode_data = test[0]\n",
    "X, y = zip(*\n",
    "            [(r['observation'], r['next_observation']) for r in episode_data if r['next_observation'] != None]\n",
    "        )\n",
    "X = torch.tensor(X)\n",
    "y = torch.tensor(y)        \n",
    "X, y = normalize(X, y)\n",
    "        \n",
    "state_ids = [1,2]\n",
    "    \n",
    "results = []\n",
    "curr_state = X[0]\n",
    "\n",
    "for true_state, true_next_state in zip(X,y):\n",
    "    next_states = trainer.model(curr_state)\n",
    "    predictions = next_states[state_ids]\n",
    "\n",
    "    results.append([curr_state[state_ids], true_state[state_ids]])\n",
    "    curr_state = next_states.detach()\n",
    "\n",
    "\n",
    "results[0]"
   ]
  },
  {
   "cell_type": "code",
   "execution_count": null,
   "metadata": {},
   "outputs": [],
   "source": [
    "num_timestamps = 500\n",
    "\n",
    "predicted_x = [r[0][0].numpy() for r in results[:num_timestamps]]\n",
    "predicted_Y = [r[0][1].numpy() for r in results[:num_timestamps]]\n",
    "\n",
    "true_x = [r[1][0].numpy() for r in results[:num_timestamps]]\n",
    "true_y = [r[1][1].numpy() for r in results[:num_timestamps]]\n",
    "\n"
   ]
  },
  {
   "cell_type": "code",
   "execution_count": null,
   "metadata": {},
   "outputs": [],
   "source": [
    "print(predicted_x[0], predicted_Y[0])\n",
    "print(true_x[0], true_y[0])"
   ]
  },
  {
   "cell_type": "code",
   "execution_count": null,
   "metadata": {},
   "outputs": [],
   "source": [
    "start_point = predicted_x[0], predicted_Y[0]\n",
    "start_point"
   ]
  },
  {
   "cell_type": "code",
   "execution_count": 516,
   "metadata": {},
   "outputs": [
    {
     "ename": "ValueError",
     "evalue": "x and y must be the same size",
     "output_type": "error",
     "traceback": [
      "\u001b[0;31m---------------------------------------------------------------------------\u001b[0m",
      "\u001b[0;31mValueError\u001b[0m                                Traceback (most recent call last)",
      "\u001b[0;32m<ipython-input-516-82721c193695>\u001b[0m in \u001b[0;36m<module>\u001b[0;34m\u001b[0m\n\u001b[0;32m----> 1\u001b[0;31m \u001b[0mplt\u001b[0m\u001b[0;34m.\u001b[0m\u001b[0mscatter\u001b[0m\u001b[0;34m(\u001b[0m\u001b[0mpredicted_x\u001b[0m\u001b[0;34m,\u001b[0m \u001b[0mpredicted_Y\u001b[0m\u001b[0;34m,\u001b[0m \u001b[0malpha\u001b[0m\u001b[0;34m=\u001b[0m\u001b[0;36m0.5\u001b[0m\u001b[0;34m)\u001b[0m\u001b[0;34m\u001b[0m\u001b[0;34m\u001b[0m\u001b[0m\n\u001b[0m\u001b[1;32m      2\u001b[0m \u001b[0mplt\u001b[0m\u001b[0;34m.\u001b[0m\u001b[0mscatter\u001b[0m\u001b[0;34m(\u001b[0m\u001b[0mtrue_x\u001b[0m\u001b[0;34m,\u001b[0m \u001b[0mtrue_y\u001b[0m\u001b[0;34m,\u001b[0m \u001b[0mc\u001b[0m\u001b[0;34m=\u001b[0m\u001b[0;34m\"g\"\u001b[0m\u001b[0;34m,\u001b[0m \u001b[0malpha\u001b[0m\u001b[0;34m=\u001b[0m\u001b[0;36m0.5\u001b[0m\u001b[0;34m,\u001b[0m \u001b[0ms\u001b[0m\u001b[0;34m=\u001b[0m\u001b[0;36m3\u001b[0m\u001b[0;34m)\u001b[0m\u001b[0;34m\u001b[0m\u001b[0;34m\u001b[0m\u001b[0m\n\u001b[1;32m      3\u001b[0m \u001b[0mplt\u001b[0m\u001b[0;34m.\u001b[0m\u001b[0mscatter\u001b[0m\u001b[0;34m(\u001b[0m\u001b[0mstart_point\u001b[0m\u001b[0;34m[\u001b[0m\u001b[0;36m0\u001b[0m\u001b[0;34m]\u001b[0m\u001b[0;34m,\u001b[0m \u001b[0mstart_point\u001b[0m\u001b[0;34m[\u001b[0m\u001b[0;36m1\u001b[0m\u001b[0;34m]\u001b[0m\u001b[0;34m,\u001b[0m \u001b[0mc\u001b[0m\u001b[0;34m=\u001b[0m\u001b[0;34m'r'\u001b[0m\u001b[0;34m)\u001b[0m\u001b[0;34m\u001b[0m\u001b[0;34m\u001b[0m\u001b[0m\n\u001b[1;32m      4\u001b[0m \u001b[0;34m\u001b[0m\u001b[0m\n\u001b[1;32m      5\u001b[0m \u001b[0mplt\u001b[0m\u001b[0;34m.\u001b[0m\u001b[0mplot\u001b[0m\u001b[0;34m(\u001b[0m\u001b[0mpredicted_x\u001b[0m\u001b[0;34m,\u001b[0m \u001b[0mpredicted_Y\u001b[0m\u001b[0;34m,\u001b[0m \u001b[0malpha\u001b[0m\u001b[0;34m=\u001b[0m\u001b[0;36m0.8\u001b[0m\u001b[0;34m)\u001b[0m\u001b[0;34m\u001b[0m\u001b[0;34m\u001b[0m\u001b[0m\n",
      "\u001b[0;32m~/.pyenv/versions/3.7.3/envs/nlp/lib/python3.7/site-packages/matplotlib/pyplot.py\u001b[0m in \u001b[0;36mscatter\u001b[0;34m(x, y, s, c, marker, cmap, norm, vmin, vmax, alpha, linewidths, verts, edgecolors, plotnonfinite, data, **kwargs)\u001b[0m\n\u001b[1;32m   2845\u001b[0m         \u001b[0mverts\u001b[0m\u001b[0;34m=\u001b[0m\u001b[0mverts\u001b[0m\u001b[0;34m,\u001b[0m \u001b[0medgecolors\u001b[0m\u001b[0;34m=\u001b[0m\u001b[0medgecolors\u001b[0m\u001b[0;34m,\u001b[0m\u001b[0;34m\u001b[0m\u001b[0;34m\u001b[0m\u001b[0m\n\u001b[1;32m   2846\u001b[0m         plotnonfinite=plotnonfinite, **({\"data\": data} if data is not\n\u001b[0;32m-> 2847\u001b[0;31m         None else {}), **kwargs)\n\u001b[0m\u001b[1;32m   2848\u001b[0m     \u001b[0msci\u001b[0m\u001b[0;34m(\u001b[0m\u001b[0m__ret\u001b[0m\u001b[0;34m)\u001b[0m\u001b[0;34m\u001b[0m\u001b[0;34m\u001b[0m\u001b[0m\n\u001b[1;32m   2849\u001b[0m     \u001b[0;32mreturn\u001b[0m \u001b[0m__ret\u001b[0m\u001b[0;34m\u001b[0m\u001b[0;34m\u001b[0m\u001b[0m\n",
      "\u001b[0;32m~/.pyenv/versions/3.7.3/envs/nlp/lib/python3.7/site-packages/matplotlib/__init__.py\u001b[0m in \u001b[0;36minner\u001b[0;34m(ax, data, *args, **kwargs)\u001b[0m\n\u001b[1;32m   1599\u001b[0m     \u001b[0;32mdef\u001b[0m \u001b[0minner\u001b[0m\u001b[0;34m(\u001b[0m\u001b[0max\u001b[0m\u001b[0;34m,\u001b[0m \u001b[0;34m*\u001b[0m\u001b[0margs\u001b[0m\u001b[0;34m,\u001b[0m \u001b[0mdata\u001b[0m\u001b[0;34m=\u001b[0m\u001b[0;32mNone\u001b[0m\u001b[0;34m,\u001b[0m \u001b[0;34m**\u001b[0m\u001b[0mkwargs\u001b[0m\u001b[0;34m)\u001b[0m\u001b[0;34m:\u001b[0m\u001b[0;34m\u001b[0m\u001b[0;34m\u001b[0m\u001b[0m\n\u001b[1;32m   1600\u001b[0m         \u001b[0;32mif\u001b[0m \u001b[0mdata\u001b[0m \u001b[0;32mis\u001b[0m \u001b[0;32mNone\u001b[0m\u001b[0;34m:\u001b[0m\u001b[0;34m\u001b[0m\u001b[0;34m\u001b[0m\u001b[0m\n\u001b[0;32m-> 1601\u001b[0;31m             \u001b[0;32mreturn\u001b[0m \u001b[0mfunc\u001b[0m\u001b[0;34m(\u001b[0m\u001b[0max\u001b[0m\u001b[0;34m,\u001b[0m \u001b[0;34m*\u001b[0m\u001b[0mmap\u001b[0m\u001b[0;34m(\u001b[0m\u001b[0msanitize_sequence\u001b[0m\u001b[0;34m,\u001b[0m \u001b[0margs\u001b[0m\u001b[0;34m)\u001b[0m\u001b[0;34m,\u001b[0m \u001b[0;34m**\u001b[0m\u001b[0mkwargs\u001b[0m\u001b[0;34m)\u001b[0m\u001b[0;34m\u001b[0m\u001b[0;34m\u001b[0m\u001b[0m\n\u001b[0m\u001b[1;32m   1602\u001b[0m \u001b[0;34m\u001b[0m\u001b[0m\n\u001b[1;32m   1603\u001b[0m         \u001b[0mbound\u001b[0m \u001b[0;34m=\u001b[0m \u001b[0mnew_sig\u001b[0m\u001b[0;34m.\u001b[0m\u001b[0mbind\u001b[0m\u001b[0;34m(\u001b[0m\u001b[0max\u001b[0m\u001b[0;34m,\u001b[0m \u001b[0;34m*\u001b[0m\u001b[0margs\u001b[0m\u001b[0;34m,\u001b[0m \u001b[0;34m**\u001b[0m\u001b[0mkwargs\u001b[0m\u001b[0;34m)\u001b[0m\u001b[0;34m\u001b[0m\u001b[0;34m\u001b[0m\u001b[0m\n",
      "\u001b[0;32m~/.pyenv/versions/3.7.3/envs/nlp/lib/python3.7/site-packages/matplotlib/axes/_axes.py\u001b[0m in \u001b[0;36mscatter\u001b[0;34m(self, x, y, s, c, marker, cmap, norm, vmin, vmax, alpha, linewidths, verts, edgecolors, plotnonfinite, **kwargs)\u001b[0m\n\u001b[1;32m   4442\u001b[0m         \u001b[0my\u001b[0m \u001b[0;34m=\u001b[0m \u001b[0mnp\u001b[0m\u001b[0;34m.\u001b[0m\u001b[0mma\u001b[0m\u001b[0;34m.\u001b[0m\u001b[0mravel\u001b[0m\u001b[0;34m(\u001b[0m\u001b[0my\u001b[0m\u001b[0;34m)\u001b[0m\u001b[0;34m\u001b[0m\u001b[0;34m\u001b[0m\u001b[0m\n\u001b[1;32m   4443\u001b[0m         \u001b[0;32mif\u001b[0m \u001b[0mx\u001b[0m\u001b[0;34m.\u001b[0m\u001b[0msize\u001b[0m \u001b[0;34m!=\u001b[0m \u001b[0my\u001b[0m\u001b[0;34m.\u001b[0m\u001b[0msize\u001b[0m\u001b[0;34m:\u001b[0m\u001b[0;34m\u001b[0m\u001b[0;34m\u001b[0m\u001b[0m\n\u001b[0;32m-> 4444\u001b[0;31m             \u001b[0;32mraise\u001b[0m \u001b[0mValueError\u001b[0m\u001b[0;34m(\u001b[0m\u001b[0;34m\"x and y must be the same size\"\u001b[0m\u001b[0;34m)\u001b[0m\u001b[0;34m\u001b[0m\u001b[0;34m\u001b[0m\u001b[0m\n\u001b[0m\u001b[1;32m   4445\u001b[0m \u001b[0;34m\u001b[0m\u001b[0m\n\u001b[1;32m   4446\u001b[0m         \u001b[0;32mif\u001b[0m \u001b[0ms\u001b[0m \u001b[0;32mis\u001b[0m \u001b[0;32mNone\u001b[0m\u001b[0;34m:\u001b[0m\u001b[0;34m\u001b[0m\u001b[0;34m\u001b[0m\u001b[0m\n",
      "\u001b[0;31mValueError\u001b[0m: x and y must be the same size"
     ]
    },
    {
     "data": {
      "image/png": "[encoded data removed]",
      "text/plain": [
       "<Figure size 432x288 with 1 Axes>"
      ]
     },
     "metadata": {
      "needs_background": "light"
     },
     "output_type": "display_data"
    }
   ],
   "source": [
    "plt.scatter(predicted_x, predicted_Y, alpha=0.5)\n",
    "plt.scatter(true_x, true_y, c=\"g\", alpha=0.5, s=3)\n",
    "plt.scatter(start_point[0], start_point[1], c='r')\n",
    "\n",
    "plt.plot(predicted_x, predicted_Y, alpha=0.8)\n",
    "plt.plot(true_x, true_y, c=\"g\", alpha=0.5)\n",
    "plt.scatter(start_point[0], start_point[1], c='r')\n",
    "\n",
    "plt.show()\n",
    "\n",
    "\n"
   ]
  },
  {
   "cell_type": "code",
   "execution_count": null,
   "metadata": {},
   "outputs": [],
   "source": []
  },
  {
   "cell_type": "code",
   "execution_count": null,
   "metadata": {},
   "outputs": [],
   "source": []
  },
  {
   "cell_type": "code",
   "execution_count": null,
   "metadata": {},
   "outputs": [],
   "source": []
  },
  {
   "cell_type": "code",
   "execution_count": null,
   "metadata": {},
   "outputs": [],
   "source": []
  },
  {
   "cell_type": "code",
   "execution_count": null,
   "metadata": {},
   "outputs": [],
   "source": []
  }
 ],
 "metadata": {
  "kernelspec": {
   "display_name": "Python 3",
   "language": "python",
   "name": "python3"
  },
  "language_info": {
   "codemirror_mode": {
    "name": "ipython",
    "version": 3
   },
   "file_extension": ".py",
   "mimetype": "text/x-python",
   "name": "python",
   "nbconvert_exporter": "python",
   "pygments_lexer": "ipython3",
   "version": "3.7.3"
  }
 },
 "nbformat": 4,
 "nbformat_minor": 2
}
