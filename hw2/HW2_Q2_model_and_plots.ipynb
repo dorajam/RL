{
 "cells": [
  {
   "cell_type": "code",
   "execution_count": 136,
   "metadata": {},
   "outputs": [],
   "source": [
    "import os\n",
    "import json\n",
    "import numpy as np\n",
    "import pandas as pd\n",
    "import matplotlib.pyplot as plt\n",
    "import seaborn as sns\n",
    "%matplotlib inline\n",
    "sns.set(style=\"darkgrid\")\n",
    "\n",
    "import torch"
   ]
  },
  {
   "cell_type": "markdown",
   "metadata": {},
   "source": [
    "# Utility functions"
   ]
  },
  {
   "cell_type": "code",
   "execution_count": 137,
   "metadata": {},
   "outputs": [],
   "source": [
    "def normalize(X, y):\n",
    "    means = torch.mean(X, axis=0)\n",
    "    stdevs = torch.std(X, axis=0)\n",
    "    X = (X - means)/ stdevs\n",
    "    y = (y - means)/ stdevs\n",
    "    return X, y\n",
    "\n",
    "\n",
    "def split_data(X, y, ratio=(0.7, 0.2)):\n",
    "    \"\"\"\n",
    "    Splits data in a given episode. Not used in the final submission.\n",
    "    \"\"\"\n",
    "    \n",
    "    assert sum(ratio) < 1., 'Ratio arg invalid. You need to define a split to allow for test samples.'\n",
    "    \n",
    "    num_samples = X.shape[0]\n",
    "    indices = torch.randperm(X.shape[0])\n",
    "    tr_idx = int(num_samples*ratio[0])\n",
    "    dev_idx = int(num_samples*ratio[1])\n",
    "    print(f'Training id and dev id: {tr_idx}, {dev_idx}')\n",
    "    \n",
    "    training_X = X[indices[:tr_idx]]\n",
    "    training_y = y[indices[:tr_idx]]\n",
    "    dev_X = X[indices[tr_idx:tr_idx+dev_idx]]\n",
    "    dev_y = y[indices[tr_idx:tr_idx+dev_idx]]\n",
    "    test_X = X[indices[tr_idx+dev_idx:]]\n",
    "    test_y = y[indices[tr_idx+dev_idx:]]\n",
    "    \n",
    "    print(f'Created {len(training_X)} training, {len(dev_X)}, dev and {len(test_X)} test samples')\n",
    "    \n",
    "    return (\n",
    "        (training_X, training_y),\n",
    "        (dev_X, dev_y),\n",
    "        (test_X, test_y)\n",
    "    )\n",
    "    \n",
    "    \n",
    "def split_by_episodes(data, ratio=(0.5, 0.5)):\n",
    "    \"\"\"\n",
    "    Splits by episodes. This is used for the below experiments.\n",
    "    \"\"\"\n",
    "    \n",
    "    \n",
    "    num_samples = len(data)\n",
    "    indices = torch.randperm(num_samples)\n",
    "    \n",
    "    tr_idx = int((num_samples-10)*ratio[0])\n",
    "    dev_idx = int((num_samples-10)*ratio[1])\n",
    "    \n",
    "    print(f'Training id and dev id: {tr_idx}, {dev_idx}')\n",
    "    \n",
    "    training = data[indices[:tr_idx]]\n",
    "    dev = data[indices[tr_idx:tr_idx+dev_idx]]\n",
    "    test = data[indices[tr_idx+dev_idx:]]\n",
    "    \n",
    "    print(f'Created {len(training)} training, {len(dev)} dev and {len(test)} test samples')\n",
    "    \n",
    "    return ( \n",
    "        training, dev, test\n",
    "    )\n"
   ]
  },
  {
   "cell_type": "markdown",
   "metadata": {},
   "source": [
    "# Dynamics Prediction Model"
   ]
  },
  {
   "cell_type": "code",
   "execution_count": 170,
   "metadata": {},
   "outputs": [],
   "source": [
    "import torch\n",
    "import torch.nn as nn\n",
    "import torch.nn.functional as F\n",
    "\n",
    "\n",
    "class Model(nn.Module):\n",
    "    def __init__(\n",
    "            self,\n",
    "            state_dim=6\n",
    "    ):\n",
    "        super(Model, self).__init__()\n",
    "        self.model = nn.Linear(state_dim, state_dim)\n",
    "\n",
    "    def forward(self, state):\n",
    "        next_state = self.model(state)\n",
    "        return next_state\n",
    "\n",
    "    \n",
    "class Trainer():\n",
    "    \n",
    "    def __init__(self, state_dim=6, eta=1e-3, epochs=10, batch_size=128):\n",
    "        self.eta = eta\n",
    "        self.epochs = epochs\n",
    "        self.batch_size=batch_size\n",
    "        self.model = Model(state_dim=state_dim)\n",
    "        self.optimizer = torch.optim.Adam(self.model.parameters(), lr=self.eta)\n",
    "\n",
    "    def prepare_data(self, episode_data):\n",
    "        X, y = zip(*\n",
    "            [(r['observation'], r['next_observation']) for r in episode_data if r['next_observation'] != None]\n",
    "        )\n",
    "        X = torch.tensor(X)\n",
    "        y = torch.tensor(y)        \n",
    "        perm = torch.randperm(X.shape[0])\n",
    "        X = X[perm]\n",
    "        y = y[perm]\n",
    "        \n",
    "        batches = []\n",
    "        num_batches = X.shape[0] // self.batch_size\n",
    "        for batch in range(num_batches):\n",
    "            \n",
    "            batch = (\n",
    "                X[batch*self.batch_size: (batch+1)*self.batch_size],\n",
    "                y[batch*self.batch_size: (batch+1)*self.batch_size]\n",
    "            )\n",
    "            batches.append(batch)\n",
    "        \n",
    "        return batches\n",
    "        \n",
    "    def eval_on_dev(self, dev):\n",
    "        self.model.eval()\n",
    "        dev_losses = 0\n",
    "        counter = 0\n",
    "        \n",
    "        for episode in range(len(dev)):\n",
    "            batches = self.prepare_data(dev[episode])\n",
    "            \n",
    "            for b in batches:\n",
    "                states, next_states = b[0], b[1]\n",
    "                pred_next_states = self.model(states)\n",
    "                curr_loss = F.mse_loss(pred_next_states, next_states)\n",
    "                dev_losses += curr_loss.item()\n",
    "                counter += states.shape[0]\n",
    "            \n",
    "        self.model.train()\n",
    "        return dev_losses / counter\n",
    "        \n",
    "        \n",
    "    def train(self, tr_data, dev_data, save_path='q2_models/'):\n",
    "        \n",
    "        if not os.path.exists(save_path):\n",
    "            print(f'Creating {save_path}')\n",
    "            os.makedirs(save_path)\n",
    "        \n",
    "        epoch_losses = []\n",
    "        val_losses = []\n",
    "        \n",
    "        for e in range(self.epochs):    \n",
    "            epoch_loss = 0\n",
    "            counter = 0\n",
    "            \n",
    "            for episode in range(len(tr_data)):\n",
    "                curr_data = self.prepare_data(tr_data[episode])\n",
    "                \n",
    "                num_batches = len(curr_data)\n",
    "                for idx in range(num_batches):\n",
    "\n",
    "                    # actual trajectory\n",
    "                    states, next_states = curr_data[idx][0], curr_data[idx][1]\n",
    "                    \n",
    "                    pred_next_states = self.model(states)\n",
    "                    curr_loss = F.mse_loss(pred_next_states, next_states)\n",
    "                    \n",
    "                    self.optimizer.zero_grad()\n",
    "                    curr_loss.backward()\n",
    "                    self.optimizer.step()\n",
    "                    epoch_loss += curr_loss\n",
    "                    counter += states.shape[0]\n",
    "                    \n",
    "            epoch_losses.append(epoch_loss / counter)\n",
    "                                      \n",
    "            print(f'Epoch {e} training MSE: {epoch_losses[-1]}')\n",
    "            val_loss = self.eval_on_dev(dev)\n",
    "            print(f'Epoch {e} validation MSE: {val_loss}')\n",
    "            val_losses.append(val_loss)\n",
    "            \n",
    "            # save model\n",
    "            if save_path:\n",
    "                self.save(self.optimizer, f\"{save_path}/{e}\")\n",
    "\n",
    "        return epoch_losses, val_losses\n",
    "    \n",
    "    def save(self, optimizer, filename):\n",
    "        torch.save(self.model.state_dict(), filename)\n",
    "        torch.save(optimizer.state_dict(), filename)\n",
    "\n",
    "    def load(self, optimizer, filename):\n",
    "        self.model.load_state_dict(torch.load(filename))\n",
    "        optimizer.load_state_dict(torch.load(filename))"
   ]
  },
  {
   "cell_type": "markdown",
   "metadata": {},
   "source": [
    "# Read noisy dataset with epsilon 0.1"
   ]
  },
  {
   "cell_type": "code",
   "execution_count": 171,
   "metadata": {},
   "outputs": [],
   "source": [
    "dataset = 'dataset_eps0.1.jsonl'\n",
    "\n",
    "data = []\n",
    "\n",
    "with open(dataset, 'r') as f:\n",
    "    for d in f.readlines():\n",
    "        data.append(json.loads(d))\n",
    "data = np.array(data)"
   ]
  },
  {
   "cell_type": "markdown",
   "metadata": {},
   "source": [
    "# Split into a given ratio to obtain train, dev and test"
   ]
  },
  {
   "cell_type": "code",
   "execution_count": 172,
   "metadata": {},
   "outputs": [
    {
     "name": "stdout",
     "output_type": "stream",
     "text": [
      "Training id and dev id: 245, 245\n",
      "Created 245 training, 245 dev and 10 test samples\n"
     ]
    }
   ],
   "source": [
    "tr, dev, test = split_by_episodes(data, ratio=(0.5, 0.5))"
   ]
  },
  {
   "cell_type": "markdown",
   "metadata": {},
   "source": [
    "# Set up Trainer object, and launch training"
   ]
  },
  {
   "cell_type": "code",
   "execution_count": 173,
   "metadata": {},
   "outputs": [
    {
     "name": "stdout",
     "output_type": "stream",
     "text": [
      "Epoch 0 training MSE: 12.029426574707031\n",
      "Epoch 0 validation MSE: 5.126540261216404\n",
      "Epoch 1 training MSE: 4.449687480926514\n",
      "Epoch 1 validation MSE: 4.047655215086949\n",
      "Epoch 2 training MSE: 4.070590019226074\n",
      "Epoch 2 validation MSE: 4.025349181696734\n",
      "Epoch 3 training MSE: 4.048620223999023\n",
      "Epoch 3 validation MSE: 3.994600624432413\n",
      "Epoch 4 training MSE: 4.043342113494873\n",
      "Epoch 4 validation MSE: 4.01218261585672\n",
      "Epoch 5 training MSE: 4.059231758117676\n",
      "Epoch 5 validation MSE: 3.9914941551646583\n",
      "Epoch 6 training MSE: 4.055515289306641\n",
      "Epoch 6 validation MSE: 3.9899925237491254\n",
      "Epoch 7 training MSE: 4.039003849029541\n",
      "Epoch 7 validation MSE: 3.989721564730586\n",
      "Epoch 8 training MSE: 4.03566312789917\n",
      "Epoch 8 validation MSE: 3.9913166588295006\n",
      "Epoch 9 training MSE: 4.036798477172852\n",
      "Epoch 9 validation MSE: 3.9764239172123763\n"
     ]
    }
   ],
   "source": [
    "torch.manual_seed(0)\n",
    "np.random.seed(0)\n",
    "trainer = Trainer(batch_size=64, epochs=10)\n",
    "tr_losses, val_losses = trainer.train(tr, dev)"
   ]
  },
  {
   "cell_type": "markdown",
   "metadata": {},
   "source": [
    "# Plot training and validation losses over epochs"
   ]
  },
  {
   "cell_type": "code",
   "execution_count": 174,
   "metadata": {},
   "outputs": [
    {
     "data": {
      "image/png": "[encoded data removed]",
      "text/plain": [
       "<Figure size 432x288 with 1 Axes>"
      ]
     },
     "metadata": {},
     "output_type": "display_data"
    }
   ],
   "source": [
    "timestamps = np.arange(0,10)\n",
    "plt.plot(timestamps, tr_losses, 'g', label='Training loss')\n",
    "plt.plot(timestamps, val_losses, 'b', label='Validation loss')\n",
    "plt.xlabel('Training steps')\n",
    "plt.ylabel('Loss')\n",
    "plt.legend()\n",
    "plt.show()"
   ]
  },
  {
   "cell_type": "code",
   "execution_count": 175,
   "metadata": {},
   "outputs": [
    {
     "name": "stdout",
     "output_type": "stream",
     "text": [
      "q2_models/0  q2_models/2  q2_models/4  q2_models/6  q2_models/8\r\n",
      "q2_models/1  q2_models/3  q2_models/5  q2_models/7  q2_models/9\r\n"
     ]
    }
   ],
   "source": [
    "ls q2_models/*"
   ]
  },
  {
   "cell_type": "markdown",
   "metadata": {},
   "source": [
    "# Predict trajectory for a given episode of the test set, and plot state transitions"
   ]
  },
  {
   "cell_type": "code",
   "execution_count": 178,
   "metadata": {},
   "outputs": [
    {
     "data": {
      "text/plain": [
       "[tensor([ 0.0242, -0.0145]), tensor([ 0.0242, -0.0145])]"
      ]
     },
     "execution_count": 178,
     "metadata": {},
     "output_type": "execute_result"
    }
   ],
   "source": [
    "# 50 episodes, each having various num of timestamps\n",
    "episode_data = test[0]\n",
    "X, y = zip(*\n",
    "            [(r['observation'], r['next_observation']) for r in episode_data if r['next_observation'] != None]\n",
    "        )\n",
    "X = torch.tensor(X)\n",
    "y = torch.tensor(y)        \n",
    "X, y = normalize(X, y)\n",
    "        \n",
    "state_ids = [4,5]\n",
    "    \n",
    "results = []\n",
    "curr_state = X[0]\n",
    "\n",
    "for true_state, true_next_state in zip(X,y):\n",
    "    next_states = trainer.model(curr_state)\n",
    "    predictions = next_states[state_ids]\n",
    "\n",
    "    results.append([curr_state[state_ids], true_state[state_ids]])\n",
    "    curr_state = next_states.detach()\n",
    "\n",
    "\n",
    "results[0]"
   ]
  },
  {
   "cell_type": "code",
   "execution_count": 179,
   "metadata": {},
   "outputs": [],
   "source": [
    "num_timestamps = 500\n",
    "\n",
    "predicted_x = [r[0][0].numpy() for r in results[:num_timestamps]]\n",
    "predicted_Y = [r[0][1].numpy() for r in results[:num_timestamps]]\n",
    "\n",
    "true_x = [r[1][0].numpy() for r in results[:num_timestamps]]\n",
    "true_y = [r[1][1].numpy() for r in results[:num_timestamps]]\n",
    "\n"
   ]
  },
  {
   "cell_type": "code",
   "execution_count": 180,
   "metadata": {},
   "outputs": [
    {
     "name": "stdout",
     "output_type": "stream",
     "text": [
      "0.024229512 -0.0145395445\n",
      "0.024229512 -0.0145395445\n"
     ]
    }
   ],
   "source": [
    "print(predicted_x[0], predicted_Y[0])\n",
    "print(true_x[0], true_y[0])"
   ]
  },
  {
   "cell_type": "code",
   "execution_count": 181,
   "metadata": {},
   "outputs": [
    {
     "data": {
      "text/plain": [
       "(array(0.02422951, dtype=float32), array(-0.01453954, dtype=float32))"
      ]
     },
     "execution_count": 181,
     "metadata": {},
     "output_type": "execute_result"
    }
   ],
   "source": [
    "start_point = predicted_x[0], predicted_Y[0]\n",
    "start_point"
   ]
  },
  {
   "cell_type": "code",
   "execution_count": 182,
   "metadata": {},
   "outputs": [
    {
     "data": {
      "image/png": "[encoded data removed]",
      "text/plain": [
       "<Figure size 432x288 with 1 Axes>"
      ]
     },
     "metadata": {},
     "output_type": "display_data"
    }
   ],
   "source": [
    "fig, ax = plt.subplots()\n",
    "\n",
    "plt.scatter(predicted_x, predicted_Y, alpha=0.5)\n",
    "plt.scatter(true_x, true_y, c=\"r\", alpha=0.7, s=6)\n",
    "plt.scatter(start_point[0], start_point[1], c='g')\n",
    "\n",
    "plt.plot(predicted_x, predicted_Y, alpha=0.8)\n",
    "plt.plot(true_x, true_y, c=\"r\", alpha=0.3)\n",
    "plt.scatter(start_point[0], start_point[1], c='g')\n",
    "\n",
    "plt.title('Predicted and actual state transitions')\n",
    "ax.set_xlabel('State 4: Joint 1 angle velocity')\n",
    "ax.set_ylabel('State 5: Joint 2 angle velocity')\n",
    "plt.show()\n",
    "\n",
    "\n"
   ]
  },
  {
   "cell_type": "code",
   "execution_count": null,
   "metadata": {},
   "outputs": [],
   "source": []
  },
  {
   "cell_type": "code",
   "execution_count": null,
   "metadata": {},
   "outputs": [],
   "source": []
  },
  {
   "cell_type": "code",
   "execution_count": null,
   "metadata": {},
   "outputs": [],
   "source": []
  },
  {
   "cell_type": "code",
   "execution_count": null,
   "metadata": {},
   "outputs": [],
   "source": []
  },
  {
   "cell_type": "code",
   "execution_count": 56,
   "metadata": {},
   "outputs": [
    {
     "name": "stdout",
     "output_type": "stream",
     "text": [
      "0.9707085096780512\n",
      "0.0021602283\n"
     ]
    },
    {
     "name": "stderr",
     "output_type": "stream",
     "text": [
      "/Users/Dora/.pyenv/versions/3.7.3/envs/nlp/lib/python3.7/site-packages/sklearn/base.py:420: FutureWarning: The default value of multioutput (not exposed in score method) will change from 'variance_weighted' to 'uniform_average' in 0.23 to keep consistent with 'metrics.r2_score'. To specify the default value manually and avoid the warning, please either call 'metrics.r2_score' directly or make a custom scorer with 'metrics.make_scorer' (the built-in scorer 'r2' uses multioutput='uniform_average').\n",
      "  \"multioutput='uniform_average').\", FutureWarning)\n"
     ]
    },
    {
     "data": {
      "image/png": "[encoded data removed]",
      "text/plain": [
       "<Figure size 432x288 with 1 Axes>"
      ]
     },
     "metadata": {
      "needs_background": "light"
     },
     "output_type": "display_data"
    }
   ],
   "source": [
    "from sklearn.linear_model import LinearRegression\n",
    "\n",
    "\n",
    "batches=trainer.prepare_data(tr[0])\n",
    "X, y = batches[0][0], batches[0][1] \n",
    "\n",
    "reg = LinearRegression().fit(X, y)\n",
    "print(reg.score(X, y))\n",
    "out = reg.predict(X)\n",
    "print(np.mean((out - y.numpy())**2))\n",
    "\n",
    "batches=trainer.prepare_data(test[0])\n",
    "X, y = batches[0][0], batches[0][1] \n",
    "out = reg.predict(X)\n",
    "np.mean((out - y.numpy())**2)\n",
    "\n",
    "predicted_x = []\n",
    "predicted_y = []\n",
    "true_x = []\n",
    "true_y = []\n",
    "curr = X[0].reshape(1,-1).numpy()\n",
    "\n",
    "for sample, next in zip(X, y):\n",
    "    pred = reg.predict(curr)\n",
    "    predicted_x.append(curr[:,1])\n",
    "    predicted_y.append(curr[:,2])\n",
    "    true_x.append(sample[1].numpy().item())\n",
    "    true_y.append(sample[2].numpy().item())\n",
    "    curr = pred.reshape(1,-1)\n",
    "\n",
    "start_point = true_x[0], true_y[0]\n",
    "\n",
    "# plt.scatter(predicted_x, predicted_y, alpha=0.5)\n",
    "plt.scatter(true_x, true_y, c=\"g\", alpha=0.5)\n",
    "plt.scatter(start_point[0], start_point[1], c='r')\n",
    "\n",
    "plt.show()\n",
    "\n"
   ]
  },
  {
   "cell_type": "code",
   "execution_count": null,
   "metadata": {},
   "outputs": [],
   "source": []
  }
 ],
 "metadata": {
  "kernelspec": {
   "display_name": "Python 3",
   "language": "python",
   "name": "python3"
  },
  "language_info": {
   "codemirror_mode": {
    "name": "ipython",
    "version": 3
   },
   "file_extension": ".py",
   "mimetype": "text/x-python",
   "name": "python",
   "nbconvert_exporter": "python",
   "pygments_lexer": "ipython3",
   "version": "3.7.3"
  }
 },
 "nbformat": 4,
 "nbformat_minor": 2
}
